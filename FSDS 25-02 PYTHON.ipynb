{
 "cells": [
  {
   "cell_type": "markdown",
   "id": "3bf2eb92-f04d-45b9-8923-2f92e6c090cd",
   "metadata": {},
   "source": [
    "# QUICK BASKET RETAIL SOLUTIONS"
   ]
  },
  {
   "cell_type": "markdown",
   "id": "405532d2-951f-4725-95cc-4b276f2f947b",
   "metadata": {},
   "source": [
    "## CHECKOUT APP AUTOMATION WITH RECEIPT GENERATOR"
   ]
  },
  {
   "cell_type": "code",
   "execution_count": 261,
   "id": "2ae710a8-4b85-48b5-9190-8fb8befa1f6b",
   "metadata": {},
   "outputs": [
    {
     "name": "stdin",
     "output_type": "stream",
     "text": [
      "Enter the item you want to purchase (\"or done\"):  Yam\n",
      "Price:  10\n",
      "Quantity:  10\n",
      "Enter the item you want to purchase (\"or done\"):  Beans\n",
      "Price:  10\n",
      "Quantity:  20\n",
      "Enter the item you want to purchase (\"or done\"):  Carrot\n",
      "Price:  5\n",
      "Quantity:  20\n",
      "Enter the item you want to purchase (\"or done\"):  Wine\n",
      "Price:  100\n",
      "Quantity:  1\n",
      "Enter the item you want to purchase (\"or done\"):  Steak\n",
      "Price:  34\n",
      "Quantity:  1\n",
      "Enter the item you want to purchase (\"or done\"):  done\n"
     ]
    },
    {
     "name": "stdout",
     "output_type": "stream",
     "text": [
      "\n",
      "   Quick Basket Supermart   \n",
      "\n",
      " --- Customer Receipt --- \n",
      "YAM: 10 x 10.0 = 100.0\n",
      "BEANS: 20 x 10.0 = 200.0\n",
      "CARROT: 20 x 5.0 = 100.0\n",
      "WINE: 1 x 100.0 = 100.0\n",
      "STEAK: 1 x 34.0 = 34.0\n",
      "10% Discount = 534.0\n",
      "Tax = $40.05\n",
      "Total = $574.05\n"
     ]
    },
    {
     "name": "stdin",
     "output_type": "stream",
     "text": [
      "Enter Transaction Description:  goods\n"
     ]
    },
    {
     "name": "stdout",
     "output_type": "stream",
     "text": [
      "Receipt saved as goods.png\n"
     ]
    }
   ],
   "source": [
    "# add items to cart function\n",
    "cart = {}\n",
    "def add_items(name, price, quantity):\n",
    "    cart[name] = {'price': price, 'quantity': quantity}\n",
    "\n",
    "\n",
    "while True: \n",
    "    item = str(input('Enter the item you want to purchase (\"or done\"): '))\n",
    "    if item.lower() == 'done': \n",
    "        break\n",
    "    price = float(input('Price: '))\n",
    "    quantity = int(input('Quantity: '))\n",
    "    add_items(item,price,quantity)\n",
    "\n",
    "def calc_total():\n",
    "    total=0 \n",
    "    for items in cart:\n",
    "        price = cart [items]['price']\n",
    "        quantity = cart [items]['quantity']\n",
    "        total += price*quantity\n",
    "    return total\n",
    "calc_total()\n",
    "\n",
    "\n",
    "def apply_disc(total):\n",
    "    if total > 1000: #from total in 'calc_total' is greater than 1000 in both price and quantity\n",
    "        return total * 0.9\n",
    "    return total \n",
    "apply_disc(calc_total())\n",
    "\n",
    "\n",
    "def tax_calc(total):\n",
    "    tax = total * 0.075\n",
    "    return tax\n",
    "tax_calc(calc_total())\n",
    "\n",
    "\n",
    "def final_cost(total,tax): \n",
    "    tax_total = total + tax\n",
    "    return tax_total\n",
    "final_cost(calc_total(), tax_calc(apply_disc(calc_total())))\n",
    "\n",
    "def print_receipt():\n",
    "    receipt_lines = [\"\\n   Quick Basket Supermart   \"]\n",
    "    receipt_lines.append(\"\\n --- Customer Receipt --- \")\n",
    "    \n",
    "        receipt_lines.append(line)\n",
    "    receipt_lines.append(f\"10% Discount = {apply_disc(calc_total())}\")\n",
    "    receipt_lines.append(f\"Tax = ${tax_calc(apply_disc(calc_total()))}\")\n",
    "    receipt_lines.append(f\"Total = ${final_cost(calc_total(), tax_calc(apply_disc(calc_total())))}\")\n",
    "\n",
    "    print('\\n'.join(receipt_lines))\n",
    "\n",
    "    save_receipt(receipt_lines)\n",
    "\n",
    "from PIL import Image, ImageDraw, ImageFont\n",
    "\n",
    "def save_receipt(lines, filename = 'receipt.png'):\n",
    "    filename = f'{input('Enter Transaction Description: ')}.png'\n",
    "    width = 400 \n",
    "    line_height = 35\n",
    "    height = line_height * (len(lines)+2)\n",
    "\n",
    "    image = Image.new('RGB', (width,height), 'white')\n",
    "    draw = ImageDraw.Draw(image)\n",
    "    font = ImageFont.truetype('arial.ttf',16)\n",
    "\n",
    "    y = 10 \n",
    "    for line in lines:\n",
    "        draw.text((10, y), line, fill='black', font=font)\n",
    "        y+= line_height\n",
    "    image.save(filename)\n",
    "    print(f'Receipt saved as {filename}')\n",
    "\n",
    "print_receipt()"
   ]
  },
  {
   "cell_type": "code",
   "execution_count": 32,
   "id": "6129c52d-1134-49c4-af20-c3a2c4a03376",
   "metadata": {},
   "outputs": [],
   "source": [
    "clas = {'starts o': ('ope','ola'), 'starts p': ('pamelas')}"
   ]
  },
  {
   "cell_type": "code",
   "execution_count": 36,
   "id": "e671d367-cdc0-4d9e-94de-e50a502c3c87",
   "metadata": {},
   "outputs": [
    {
     "data": {
      "text/plain": [
       "{'starts o': ('ope', 'ola'), 'starts p': 'pamelas'}"
      ]
     },
     "execution_count": 36,
     "metadata": {},
     "output_type": "execute_result"
    }
   ],
   "source": [
    "clas"
   ]
  },
  {
   "cell_type": "code",
   "execution_count": 38,
   "id": "4d9a9c98-a4c5-4c3f-aa01-748ad0c2d448",
   "metadata": {},
   "outputs": [
    {
     "data": {
      "text/plain": [
       "{'starts o': ('ope', 'ola'), 'starts p': 'pamelas', 'starts q': 'queen'}"
      ]
     },
     "execution_count": 38,
     "metadata": {},
     "output_type": "execute_result"
    }
   ],
   "source": [
    "clas['starts q'] = 'queen'\n",
    "clas"
   ]
  },
  {
   "cell_type": "code",
   "execution_count": 44,
   "id": "ee25b863-21a3-4239-81fb-3624aa8f9a4e",
   "metadata": {},
   "outputs": [
    {
     "data": {
      "text/plain": [
       "'queen'"
      ]
     },
     "execution_count": 44,
     "metadata": {},
     "output_type": "execute_result"
    }
   ],
   "source": [
    "clas['starts q']"
   ]
  },
  {
   "cell_type": "markdown",
   "id": "661ee45d-4358-4fbf-b44a-d1dff61cd065",
   "metadata": {},
   "source": [
    "## CREATE FUNCTION TO ADD ITEMS TO CART "
   ]
  },
  {
   "cell_type": "markdown",
   "id": "d4019c19-e066-4745-8fd9-1142c83d83c4",
   "metadata": {},
   "source": [
    "## CREATE LOOPS TO ITERATE THE PROCESS"
   ]
  },
  {
   "cell_type": "markdown",
   "id": "ae25ef30-62e8-443b-a0cb-8e90c4530a54",
   "metadata": {},
   "source": [
    "### Brief Introduction to Loops"
   ]
  },
  {
   "cell_type": "markdown",
   "id": "03385b9c-b0be-4937-8a80-65b029d0be5b",
   "metadata": {},
   "source": [
    "### Brief Recap of string method"
   ]
  },
  {
   "cell_type": "markdown",
   "id": "726630a0-8afb-4c01-819f-781327b53742",
   "metadata": {},
   "source": [
    "## FINAL LOOP"
   ]
  },
  {
   "cell_type": "markdown",
   "id": "a403daba-3fdf-4383-a201-44193aa0d54f",
   "metadata": {},
   "source": [
    "##### Slicing a dictionary"
   ]
  },
  {
   "cell_type": "markdown",
   "id": "2a0f0449-0025-4eee-aa1e-49b52755c349",
   "metadata": {},
   "source": [
    "### Function to Calculate Total"
   ]
  },
  {
   "cell_type": "markdown",
   "id": "6706dbdf-4f55-4778-8b2a-31ffa2e047c7",
   "metadata": {},
   "source": [
    "### Calculating Discount"
   ]
  },
  {
   "cell_type": "markdown",
   "id": "f484149a-ed9e-467e-8cdd-dfca5fd062a4",
   "metadata": {},
   "source": [
    "### Calculating Tax "
   ]
  },
  {
   "cell_type": "markdown",
   "id": "e51cfb4a-690b-48a0-87bb-1cf0fc3b03ca",
   "metadata": {},
   "source": [
    "## Print  Receipt in Notebook"
   ]
  },
  {
   "cell_type": "markdown",
   "id": "f5036d44-b09b-47f7-aaac-edfc040e9982",
   "metadata": {},
   "source": [
    "## Mini App Prototype"
   ]
  }
 ],
 "metadata": {
  "kernelspec": {
   "display_name": "Python [conda env:base] *",
   "language": "python",
   "name": "conda-base-py"
  },
  "language_info": {
   "codemirror_mode": {
    "name": "ipython",
    "version": 3
   },
   "file_extension": ".py",
   "mimetype": "text/x-python",
   "name": "python",
   "nbconvert_exporter": "python",
   "pygments_lexer": "ipython3",
   "version": "3.12.7"
  }
 },
 "nbformat": 4,
 "nbformat_minor": 5
}
