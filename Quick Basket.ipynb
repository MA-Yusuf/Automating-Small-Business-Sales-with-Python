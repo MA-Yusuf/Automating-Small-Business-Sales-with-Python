{
 "cells": [
  {
   "cell_type": "code",
   "execution_count": 1,
   "id": "f26d920c-82b3-4d16-b3c3-bff3bdb25bb4",
   "metadata": {},
   "outputs": [
    {
     "name": "stdin",
     "output_type": "stream",
     "text": [
      "Enter the item you want to purchase (\"or done\"):  apple\n",
      "Price:  10\n",
      "Quantity:  1\n",
      "Enter the item you want to purchase (\"or done\"):  ball\n",
      "Price:  20\n",
      "Quantity:  2\n",
      "Enter the item you want to purchase (\"or done\"):  Cat\n",
      "Price:  30\n",
      "Quantity:  3\n",
      "Enter the item you want to purchase (\"or done\"):  g-wagon\n",
      "Price:  100000\n",
      "Quantity:  1\n",
      "Enter the item you want to purchase (\"or done\"):  done\n"
     ]
    },
    {
     "name": "stdout",
     "output_type": "stream",
     "text": [
      "\n",
      "   Quick Basket Supermart   \n",
      "\n",
      " --- Customer Receipt --- \n",
      "APPLE: 1 x 10.0 = 10.0\n",
      "BALL: 2 x 20.0 = 40.0\n",
      "CAT: 3 x 30.0 = 90.0\n",
      "G-WAGON: 1 x 100000.0 = 100000.0\n",
      "10% Discount = 90126.0\n",
      "Tax = $6759.45\n",
      "Total = $106899.45\n"
     ]
    },
    {
     "name": "stdin",
     "output_type": "stream",
     "text": [
      "Enter Transaction Description:  Groceries\n"
     ]
    },
    {
     "name": "stdout",
     "output_type": "stream",
     "text": [
      "Receipt saved as Groceries.png\n"
     ]
    }
   ],
   "source": [
    "# add items to cart function\n",
    "cart = {}\n",
    "def add_items(name, price, quantity):\n",
    "    cart[name] = {'price': price, 'quantity': quantity}\n",
    "\n",
    "\n",
    "while True: \n",
    "    item = str(input('Enter the item you want to purchase (\"or done\"): '))\n",
    "    if item.lower() == 'done': \n",
    "        break\n",
    "    price = float(input('Price: '))\n",
    "    quantity = int(input('Quantity: '))\n",
    "    add_items(item,price,quantity)\n",
    "\n",
    "def calc_total():\n",
    "    total=0 \n",
    "    for items in cart:\n",
    "        price = cart [items]['price']\n",
    "        quantity = cart [items]['quantity']\n",
    "        total += price*quantity\n",
    "    return total\n",
    "calc_total()\n",
    "\n",
    "\n",
    "def apply_disc(total):\n",
    "    if total > 1000: #from total in 'calc_total' is greater than 1000 in both price and quantity\n",
    "        return total * 0.9\n",
    "    return total \n",
    "apply_disc(calc_total())\n",
    "\n",
    "\n",
    "def tax_calc(total):\n",
    "    tax = total * 0.075\n",
    "    return tax\n",
    "tax_calc(calc_total())\n",
    "\n",
    "\n",
    "def final_cost(total,tax): \n",
    "    tax_total = total + tax\n",
    "    return tax_total\n",
    "final_cost(calc_total(), tax_calc(apply_disc(calc_total())))\n",
    "\n",
    "def print_receipt():\n",
    "    receipt_lines = [\"\\n   Quick Basket Supermart   \"]\n",
    "    receipt_lines.append(\"\\n --- Customer Receipt --- \")\n",
    "    for item, details in cart.items():\n",
    "        line = f\"{item.upper()}: {details['quantity']} x {details['price']} = {details['quantity'] * details['price']}\"\n",
    "        receipt_lines.append(line)\n",
    "    \n",
    "    receipt_lines.append(f\"10% Discount = {apply_disc(calc_total())}\")\n",
    "    receipt_lines.append(f\"Tax = ${tax_calc(apply_disc(calc_total()))}\")\n",
    "    receipt_lines.append(f\"Total = ${final_cost(calc_total(), tax_calc(apply_disc(calc_total())))}\")\n",
    "\n",
    "    print('\\n'.join(receipt_lines))\n",
    "\n",
    "    save_receipt(receipt_lines)\n",
    "\n",
    "from PIL import Image, ImageDraw, ImageFont\n",
    "\n",
    "def save_receipt(lines, filename = 'receipt.png'):\n",
    "    filename = f'{input('Enter Transaction Description: ')}.png'\n",
    "    width = 400 \n",
    "    line_height = 35\n",
    "    height = line_height * (len(lines)+2)\n",
    "\n",
    "    image = Image.new('RGB', (width,height), 'white')\n",
    "    draw = ImageDraw.Draw(image)\n",
    "    font = ImageFont.truetype('arial.ttf',16)\n",
    "\n",
    "    y = 10 \n",
    "    for line in lines:\n",
    "        draw.text((10, y), line, fill='black', font=font)\n",
    "        y+= line_height\n",
    "    image.save(filename)\n",
    "    print(f'Receipt saved as {filename}')\n",
    "\n",
    "print_receipt()"
   ]
  },
  {
   "cell_type": "code",
   "execution_count": null,
   "id": "eb2c41f5-1113-4b88-b55e-9e0da8d6ca07",
   "metadata": {},
   "outputs": [],
   "source": []
  }
 ],
 "metadata": {
  "kernelspec": {
   "display_name": "Python [conda env:base] *",
   "language": "python",
   "name": "conda-base-py"
  },
  "language_info": {
   "codemirror_mode": {
    "name": "ipython",
    "version": 3
   },
   "file_extension": ".py",
   "mimetype": "text/x-python",
   "name": "python",
   "nbconvert_exporter": "python",
   "pygments_lexer": "ipython3",
   "version": "3.12.7"
  }
 },
 "nbformat": 4,
 "nbformat_minor": 5
}
